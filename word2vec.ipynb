{
 "cells": [
  {
   "cell_type": "code",
   "execution_count": 1,
   "metadata": {},
   "outputs": [],
   "source": [
    "import gensim\n",
    "import jieba\n",
    "import json"
   ]
  },
  {
   "cell_type": "code",
   "execution_count": 2,
   "metadata": {},
   "outputs": [
    {
     "name": "stdout",
     "output_type": "stream",
     "text": [
      "[{'label': 0, 'content': '为什么没有0分？'}, {'label': 0, 'content': '非常的新鲜，非常的美味'}, {'label': 0, 'content': '屑！！！！！！！'}, {'label': 0, 'content': 'emmm……我进来挑战了……然后我留下评价走了'}, {'label': 0, 'content': '很牛批'}, {'label': 0, 'content': '再加一把火?'}, {'label': 0, 'content': '史上最屎'}, {'label': 0, 'content': '太棒了'}, {'label': 0, 'content': '为什么没有0分'}, {'label': 0, 'content': '兽娘动物园唯一精神续作：烟草'}]\n"
     ]
    }
   ],
   "source": [
    "with open('data/bili_review.json', encoding='utf-8') as file:\n",
    "    data = file.read()\n",
    "    jdata = json.loads(data)\n",
    "print(jdata[0:10])"
   ]
  },
  {
   "cell_type": "code",
   "execution_count": 3,
   "metadata": {},
   "outputs": [
    {
     "name": "stdout",
     "output_type": "stream",
     "text": [
      "<class 'str'>\n"
     ]
    }
   ],
   "source": [
    "sentences = [x['content'] for x in jdata]\n",
    "print(type(sentences[0]))"
   ]
  },
  {
   "cell_type": "code",
   "execution_count": 4,
   "metadata": {},
   "outputs": [
    {
     "name": "stderr",
     "output_type": "stream",
     "text": [
      "Building prefix dict from the default dictionary ...\n",
      "Loading model from cache C:\\Users\\11956\\AppData\\Local\\Temp\\jieba.cache\n",
      "Loading model cost 1.005 seconds.\n",
      "Prefix dict has been built succesfully.\n"
     ]
    }
   ],
   "source": [
    "tokenized = [list(jieba.cut(i)) for i in sentences]\n",
    "model = gensim.models.Word2Vec(tokenized, min_count=1)"
   ]
  },
  {
   "cell_type": "code",
   "execution_count": 23,
   "metadata": {},
   "outputs": [
    {
     "name": "stderr",
     "output_type": "stream",
     "text": [
      "c:\\users\\11956\\appdata\\local\\programs\\python\\python36\\lib\\site-packages\\ipykernel_launcher.py:1: DeprecationWarning: Call to deprecated `similar_by_word` (Method will be removed in 4.0.0, use self.wv.similar_by_word() instead).\n",
      "  \"\"\"Entry point for launching an IPython kernel.\n"
     ]
    },
    {
     "data": {
      "text/plain": [
       "[('玩意', 0.9947296380996704),\n",
       " ('时候', 0.9833451509475708),\n",
       " ('说些', 0.982355535030365),\n",
       " ('到底', 0.9801310300827026),\n",
       " ('东西', 0.9778729677200317),\n",
       " ('究竟', 0.97772616147995),\n",
       " ('敢', 0.9757320284843445),\n",
       " ('能出', 0.9754215478897095),\n",
       " ('干嘛', 0.9738357067108154),\n",
       " ('错', 0.9735352396965027)]"
      ]
     },
     "execution_count": 23,
     "metadata": {},
     "output_type": "execute_result"
    }
   ],
   "source": [
    "model.similar_by_word(\"\")"
   ]
  },
  {
   "cell_type": "code",
   "execution_count": 24,
   "metadata": {},
   "outputs": [],
   "source": [
    "model.wv.save(\"model/word2vec_bili.pkl\")"
   ]
  },
  {
   "cell_type": "code",
   "execution_count": 37,
   "metadata": {},
   "outputs": [],
   "source": [
    "import pickle\n",
    "f = open(\"word2vecv1.pkl\", 'rb')  \n",
    "index_dict = pickle.load(f)  # word: index"
   ]
  },
  {
   "cell_type": "code",
   "execution_count": 48,
   "metadata": {},
   "outputs": [
    {
     "name": "stdout",
     "output_type": "stream",
     "text": [
      "33403\n"
     ]
    }
   ],
   "source": [
    "print(len(index_dict.vocab.items()))"
   ]
  },
  {
   "cell_type": "code",
   "execution_count": 49,
   "metadata": {},
   "outputs": [],
   "source": [
    "import numpy as np\n",
    "\n",
    "word_vectors = index_dict\n",
    "\n",
    "n_symbols = len(word_vectors.vocab.items()) + 1  # amount of words\n",
    "embedding_weights = np.zeros((n_symbols, 100))  \n",
    "index = 0\n",
    "for x in word_vectors.vocab.items():\n",
    "    index += 1\n",
    "    word = x[0]\n",
    "    embedding_weights[index, :] = word_vectors[word]  # word vectors' metrix, embedding_weight[0]=0 (index begins from 0)\n"
   ]
  },
  {
   "cell_type": "code",
   "execution_count": 50,
   "metadata": {},
   "outputs": [
    {
     "data": {
      "text/plain": [
       "array([[ 0.00000000e+00,  0.00000000e+00,  0.00000000e+00, ...,\n",
       "         0.00000000e+00,  0.00000000e+00,  0.00000000e+00],\n",
       "       [ 8.34761094e-03, -1.34705799e-03,  3.52892745e-03, ...,\n",
       "         1.02867540e-02, -3.95187968e-03, -1.53058546e-03],\n",
       "       [ 9.20219243e-01, -1.75135598e-01,  7.23459899e-01, ...,\n",
       "         7.15825558e-01, -1.57390758e-01,  6.31174624e-01],\n",
       "       ...,\n",
       "       [ 1.01177432e-02, -1.49804587e-02, -8.26199632e-03, ...,\n",
       "         1.36268837e-03, -2.05511358e-04, -4.23963042e-03],\n",
       "       [ 8.41984898e-03, -1.47904204e-02,  1.66704645e-03, ...,\n",
       "         1.37961179e-03, -2.56940559e-03, -1.18416781e-03],\n",
       "       [ 4.28169826e-03, -7.56434724e-03,  1.26378809e-03, ...,\n",
       "         4.26215865e-03,  5.17515186e-03,  4.90467413e-04]])"
      ]
     },
     "execution_count": 50,
     "metadata": {},
     "output_type": "execute_result"
    }
   ],
   "source": [
    "embedding_weights"
   ]
  }
 ],
 "metadata": {
  "file_extension": ".py",
  "kernelspec": {
   "display_name": "Python 3",
   "language": "python",
   "name": "python3"
  },
  "language_info": {
   "codemirror_mode": {
    "name": "ipython",
    "version": 3
   },
   "file_extension": ".py",
   "mimetype": "text/x-python",
   "name": "python",
   "nbconvert_exporter": "python",
   "pygments_lexer": "ipython3",
   "version": "3.6.2"
  },
  "mimetype": "text/x-python",
  "name": "python",
  "npconvert_exporter": "python",
  "pygments_lexer": "ipython3",
  "version": 3
 },
 "nbformat": 4,
 "nbformat_minor": 2
}
